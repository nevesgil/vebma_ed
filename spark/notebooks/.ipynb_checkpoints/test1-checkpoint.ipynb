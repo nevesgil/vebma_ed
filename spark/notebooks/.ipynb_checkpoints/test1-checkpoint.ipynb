{
 "cells": [
  {
   "cell_type": "code",
   "execution_count": 6,
   "id": "39aeab4d",
   "metadata": {},
   "outputs": [],
   "source": [
    "from pyspark.sql import SparkSession\n",
    "\n",
    "import pyspark.sql.functions as F\n",
    "import pyspark.sql.types as T\n",
    "\n",
    "from pyspark.sql.functions import rand\n"
   ]
  },
  {
   "cell_type": "code",
   "execution_count": 7,
   "id": "d0a302f0",
   "metadata": {},
   "outputs": [],
   "source": [
    "spark = SparkSession.\\\n",
    "        builder.\\\n",
    "        appName(\"pyspark-notebook\").\\\n",
    "        master(\"spark://spark-master:7077\").\\\n",
    "        config(\"spark.executor.memory\", \"1024m\").\\\n",
    "        getOrCreate()"
   ]
  },
  {
   "cell_type": "code",
   "execution_count": 8,
   "id": "48e50f2b",
   "metadata": {},
   "outputs": [
    {
     "name": "stdout",
     "output_type": "stream",
     "text": [
      "<pyspark.sql.session.SparkSession object at 0x7f6b981d1a90>\n"
     ]
    }
   ],
   "source": [
    "print(spark)"
   ]
  },
  {
   "cell_type": "code",
   "execution_count": 9,
   "id": "5982b2b5",
   "metadata": {},
   "outputs": [
    {
     "name": "stdout",
     "output_type": "stream",
     "text": [
      "root\n",
      " |-- col_0: double (nullable = false)\n",
      " |-- col_1: double (nullable = false)\n",
      " |-- col_2: double (nullable = false)\n",
      " |-- col_3: double (nullable = false)\n",
      " |-- col_4: double (nullable = false)\n",
      " |-- col_5: double (nullable = false)\n",
      " |-- col_6: double (nullable = false)\n",
      " |-- col_7: double (nullable = false)\n",
      " |-- col_8: double (nullable = false)\n",
      " |-- col_9: double (nullable = false)\n",
      "\n"
     ]
    }
   ],
   "source": [
    "\n",
    "# Number of rows and columns\n",
    "num_rows = 10**2  # 1 billion rows\n",
    "num_cols = 10  # 10 columns\n",
    "\n",
    "# Create a large DataFrame with random numbers\n",
    "df = spark.range(0, num_rows).select([rand().alias(f\"col_{i}\") for i in range(num_cols)])\n",
    "\n",
    "# Show the schema to confirm\n",
    "df.printSchema()\n"
   ]
  },
  {
   "cell_type": "code",
   "execution_count": null,
   "id": "18ae25ec",
   "metadata": {},
   "outputs": [],
   "source": [
    "# Cache the DataFrame\n",
    "df.cache()\n",
    "\n",
    "# Trigger an action to cache the data (e.g., count, show)\n",
    "df.count()  # This action will force the caching of the DataFrame\n"
   ]
  },
  {
   "cell_type": "code",
   "execution_count": 6,
   "id": "d54186ef",
   "metadata": {},
   "outputs": [
    {
     "name": "stdout",
     "output_type": "stream",
     "text": [
      "+-------------------+-----+\n",
      "|              col_1|count|\n",
      "+-------------------+-----+\n",
      "|  0.935747819941171|    1|\n",
      "|  0.624429073158544|    1|\n",
      "|0.43141676825772746|    1|\n",
      "|0.33959908641279124|    1|\n",
      "| 0.5282311660835204|    1|\n",
      "| 0.4001023580495522|    1|\n",
      "| 0.8638774211931219|    1|\n",
      "| 0.6778814464140723|    1|\n",
      "| 0.6828620495787944|    1|\n",
      "|  0.760091070739188|    1|\n",
      "|0.44526274728636395|    1|\n",
      "| 0.7688280341237781|    1|\n",
      "| 0.9386432155096397|    1|\n",
      "| 0.8587773052922618|    1|\n",
      "| 0.6756480537650129|    1|\n",
      "| 0.3556510055467955|    1|\n",
      "| 0.3881935782685465|    1|\n",
      "| 0.6245669350488477|    1|\n",
      "|  0.752538391117866|    1|\n",
      "|  0.350151175578468|    1|\n",
      "+-------------------+-----+\n",
      "only showing top 20 rows\n",
      "\n"
     ]
    }
   ],
   "source": [
    "# Example operation: Select a few columns and perform an aggregation\n",
    "df.select(\"col_1\", \"col_2\").groupBy(\"col_1\").count().show()\n"
   ]
  },
  {
   "cell_type": "code",
   "execution_count": null,
   "id": "b36dee2c",
   "metadata": {},
   "outputs": [],
   "source": []
  },
  {
   "cell_type": "code",
   "execution_count": 7,
   "id": "97107191",
   "metadata": {},
   "outputs": [],
   "source": [
    "# Stop the Spark session\n",
    "spark.stop()"
   ]
  },
  {
   "cell_type": "code",
   "execution_count": null,
   "id": "1745952a",
   "metadata": {},
   "outputs": [],
   "source": []
  },
  {
   "cell_type": "code",
   "execution_count": null,
   "id": "7bc5f29a",
   "metadata": {},
   "outputs": [],
   "source": []
  },
  {
   "cell_type": "code",
   "execution_count": null,
   "id": "b5e046c4",
   "metadata": {},
   "outputs": [],
   "source": []
  },
  {
   "cell_type": "code",
   "execution_count": null,
   "id": "edbb4f0e",
   "metadata": {},
   "outputs": [],
   "source": []
  },
  {
   "cell_type": "code",
   "execution_count": null,
   "id": "7eae4e9b",
   "metadata": {},
   "outputs": [],
   "source": []
  }
 ],
 "metadata": {
  "kernelspec": {
   "display_name": "Python 3 (ipykernel)",
   "language": "python",
   "name": "python3"
  },
  "language_info": {
   "codemirror_mode": {
    "name": "ipython",
    "version": 3
   },
   "file_extension": ".py",
   "mimetype": "text/x-python",
   "name": "python",
   "nbconvert_exporter": "python",
   "pygments_lexer": "ipython3",
   "version": "3.11.4"
  }
 },
 "nbformat": 4,
 "nbformat_minor": 5
}
