{
 "cells": [
  {
   "cell_type": "code",
   "execution_count": 1,
   "id": "450da51f",
   "metadata": {},
   "outputs": [],
   "source": [
    "#!pip install boto3 minio\n"
   ]
  },
  {
   "cell_type": "code",
   "execution_count": 2,
   "id": "e2141390",
   "metadata": {},
   "outputs": [],
   "source": [
    "import boto3\n",
    "from botocore.client import Config\n",
    "\n",
    "# MinIO configuration\n",
    "minio_endpoint = \"http://minio:9000\"  # or the IP of your MinIO instance\n",
    "minio_root_user = \"minio\"  # Replace with your MINIO_ROOT_USER\n",
    "minio_root_password = \"minio123\"  # Replace with your MINIO_ROOT_PASSWORD\n",
    "bucket_name = \"bronze\"  # Replace with your bucket name\n",
    "\n",
    "# Initialize the S3 client\n",
    "s3_client = boto3.client(\n",
    "    's3',\n",
    "    endpoint_url=minio_endpoint,\n",
    "    aws_access_key_id=minio_root_user,\n",
    "    aws_secret_access_key=minio_root_password,\n",
    "    config=Config(signature_version='s3v4'),\n",
    "    region_name=\"us-east-1\"  # Region is required by boto3 but is arbitrary for MinIO\n",
    ")\n"
   ]
  },
  {
   "cell_type": "code",
   "execution_count": 3,
   "id": "48d92f7a",
   "metadata": {},
   "outputs": [],
   "source": [
    "# List all buckets\n",
    "buckets = s3_client.list_buckets()\n",
    "for bucket in buckets['Buckets']:\n",
    "    print(f'Bucket: {bucket[\"Name\"]}')\n",
    "\n",
    "# List objects in a specific bucket\n",
    "objects = s3_client.list_objects_v2(Bucket=bucket_name)\n",
    "for obj in objects.get('Contents', []):\n",
    "    print(f'Object: {obj[\"Key\"]}')\n"
   ]
  },
  {
   "cell_type": "code",
   "execution_count": 4,
   "id": "509754b1",
   "metadata": {},
   "outputs": [],
   "source": [
    "from minio import Minio\n",
    "\n",
    "# Initialize MinIO client\n",
    "minio_client = Minio(\n",
    "    \"minio:9000\",\n",
    "    access_key=\"minio\",\n",
    "    secret_key=\"minio123\",\n",
    "    secure=False  # Set to True if you're using HTTPS\n",
    ")\n",
    "\n",
    "# List objects in a bucket\n",
    "objects = minio_client.list_objects(bucket_name)\n",
    "for obj in objects:\n",
    "    print(obj.object_name)\n"
   ]
  },
  {
   "cell_type": "code",
   "execution_count": 5,
   "id": "14d792fa",
   "metadata": {},
   "outputs": [],
   "source": [
    "import requests\n",
    "import json\n",
    "from datetime import datetime\n",
    "\n",
    "# MinIO configuration the same as above\n",
    "object_name = f\"breweries_{datetime.now().strftime('%Y%m%d%H%M%S')}.json\"  # Unique object name based on timestamp\n",
    "\n",
    "# Ensure the bucket exists\n",
    "if not minio_client.bucket_exists(bucket_name):\n",
    "    minio_client.make_bucket(bucket_name)\n",
    "    print(f\"Bucket '{bucket_name}' created successfully.\")\n",
    "\n",
    "# Fetch data from the API\n",
    "response = requests.get(\"https://api.openbrewerydb.org/breweries\")\n",
    "breweries_data = response.json()\n",
    "\n",
    "# Save JSON data to a file\n",
    "json_data = json.dumps(breweries_data, indent=2)\n",
    "json_file_path = \"/tmp/breweries.json\"\n",
    "with open(json_file_path, 'w') as json_file:\n",
    "    json_file.write(json_data)\n",
    "    print(f\"Data saved to {json_file_path}\")\n",
    "\n",
    "# Upload the JSON file to MinIO\n",
    "minio_client.fput_object(bucket_name, object_name, json_file_path)\n",
    "print(f\"File '{object_name}' uploaded to MinIO bucket '{bucket_name}' successfully.\")\n"
   ]
  },
  {
   "cell_type": "code",
   "execution_count": 6,
   "id": "8bc22ccd",
   "metadata": {},
   "outputs": [],
   "source": [
    "# List objects in the bucket to find the CSV and JSON files\n",
    "objects = minio_client.list_objects(bucket_name)\n",
    "files = [obj.object_name for obj in objects]\n"
   ]
  },
  {
   "cell_type": "code",
   "execution_count": 7,
   "id": "f703d624",
   "metadata": {},
   "outputs": [],
   "source": [
    "from io import BytesIO\n",
    "import pandas as pd"
   ]
  },
  {
   "cell_type": "code",
   "execution_count": 8,
   "id": "023c645a",
   "metadata": {},
   "outputs": [],
   "source": [
    "# Read and display CSV file\n",
    "csv_file = [file for file in files if file.endswith('.csv')]\n",
    "if csv_file:\n",
    "    csv_file = csv_file[0]  # Assuming there's only one CSV file\n",
    "    response = minio_client.get_object(bucket_name, csv_file)\n",
    "    csv_data = pd.read_csv(BytesIO(response.read()))\n",
    "    print(f\"CSV Data from {csv_file}:\")\n",
    "    display(csv_data)"
   ]
  },
  {
   "cell_type": "code",
   "execution_count": 9,
   "id": "a44a05f7",
   "metadata": {},
   "outputs": [],
   "source": [
    "# Read and display JSON file\n",
    "json_file = [file for file in files if file.endswith('.json')]\n",
    "if json_file:\n",
    "    json_file = json_file[0]  # Assuming there's only one JSON file\n",
    "    response = minio_client.get_object(bucket_name, json_file)\n",
    "    json_data = json.load(BytesIO(response.read()))\n",
    "    print(f\"JSON Data from {json_file}:\")\n",
    "    display(pd.DataFrame(json_data))"
   ]
  },
  {
   "cell_type": "code",
   "execution_count": null,
   "id": "6e09b94d",
   "metadata": {},
   "outputs": [],
   "source": []
  }
 ],
 "metadata": {
  "kernelspec": {
   "display_name": "Python 3 (ipykernel)",
   "language": "python",
   "name": "python3"
  },
  "language_info": {
   "codemirror_mode": {
    "name": "ipython",
    "version": 3
   },
   "file_extension": ".py",
   "mimetype": "text/x-python",
   "name": "python",
   "nbconvert_exporter": "python",
   "pygments_lexer": "ipython3",
   "version": "3.11.4"
  }
 },
 "nbformat": 4,
 "nbformat_minor": 5
}
